{
 "cells": [
  {
   "cell_type": "markdown",
   "metadata": {},
   "source": [
    "# Use Hypervolume to Evaluate Solutions\n",
    "## Algorithm"
   ]
  },
  {
   "cell_type": "code",
   "execution_count": 1,
   "metadata": {},
   "outputs": [],
   "source": [
    "import numpy as np"
   ]
  },
  {
   "cell_type": "code",
   "execution_count": 65,
   "metadata": {},
   "outputs": [],
   "source": [
    "def calculate_2d_hv(solution_set):\n",
    "    '''\n",
    "    ::para: solution_set: points set that contians all points in the front(normalized solutions)\n",
    "    ::return: the hypervolume for all the solutions\n",
    "    '''\n",
    "    tmp = solution_set[np.argsort(solution_set[:,0],kind='mergesort')]\n",
    "    #print(tmp)\n",
    "    hv = 0\n",
    "    pervious = 0\n",
    "    for vec in tmp:\n",
    "        # vec = np.array(vec)[0]\n",
    "        # print(vec)\n",
    "        hv += (vec[0] - pervious)*vec[1]\n",
    "        pervious = vec[0]\n",
    "    return hv  "
   ]
  },
  {
   "cell_type": "code",
   "execution_count": 71,
   "metadata": {},
   "outputs": [],
   "source": [
    "def calculate_contribution(total_hv, solution_set, solution_idx):\n",
    "    '''\n",
    "    ::param: total_hv of the solution set\n",
    "    ::param: solution_set\n",
    "    ::solutoin_idx: the index of solution to be calculated\n",
    "    '''\n",
    "    tmp = np.delete(solution_set, (solution_idx), axis = 0)\n",
    "    contribution = total_hv - calculate_2d_hv(tmp)\n",
    "    return contribution"
   ]
  },
  {
   "cell_type": "markdown",
   "metadata": {},
   "source": [
    "### Section One"
   ]
  },
  {
   "cell_type": "code",
   "execution_count": 66,
   "metadata": {},
   "outputs": [
    {
     "name": "stdout",
     "output_type": "stream",
     "text": [
      "hypervolume of figure. 04 (a): 50\n",
      "hypervolume of figure. 04 (b): 44\n"
     ]
    }
   ],
   "source": [
    "solutions1 = np.array([[1,8],[9,1],[4,7],[8,4],[6,6]])\n",
    "solutions2 = np.array([[1,8],[9,1],[4,7],[6,6]])\n",
    "hv01 = calculate_2d_hv(solutions1)\n",
    "hv02 = calculate_2d_hv(solutions2)\n",
    "print(\"hypervolume of figure. 04 (a): %d\\nhypervolume of figure. 04 (b): %d\" % (hv01,hv02))"
   ]
  },
  {
   "cell_type": "markdown",
   "metadata": {},
   "source": [
    "### Section Two"
   ]
  },
  {
   "cell_type": "code",
   "execution_count": 70,
   "metadata": {},
   "outputs": [],
   "source": [
    "data200 = np.loadtxt('200points.dat', skiprows=1, delimiter=',')"
   ]
  },
  {
   "cell_type": "code",
   "execution_count": 84,
   "metadata": {},
   "outputs": [
    {
     "name": "stdout",
     "output_type": "stream",
     "text": [
      "before selection: 4.403850\n"
     ]
    }
   ],
   "source": [
    "total_hv = calculate_2d_hv(data200)\n",
    "print(\"before selection: %f\" % total_hv)"
   ]
  },
  {
   "cell_type": "code",
   "execution_count": 77,
   "metadata": {},
   "outputs": [],
   "source": [
    "contri = list()\n",
    "for i in range(len(data200)):\n",
    "    contri.append(calculate_contribution(total_hv, data200, i))\n",
    "selected = data200[np.argsort(contri)[-100:]]"
   ]
  },
  {
   "cell_type": "code",
   "execution_count": 80,
   "metadata": {},
   "outputs": [
    {
     "name": "stdout",
     "output_type": "stream",
     "text": [
      "[[ 2.94952488  0.99759448]\n",
      " [ 2.94919682  0.99763823]\n",
      " [ 2.94493675  0.99826407]\n",
      " [ 2.94395232  0.99842411]\n",
      " [ 2.96539831  0.99612606]\n",
      " [ 2.934026    1.00039816]\n",
      " [ 2.96488476  0.99615604]\n",
      " [ 2.97445345  0.99574578]\n",
      " [ 2.93297005  1.00064874]\n",
      " [ 2.95969057  0.99651939]\n",
      " [ 2.94468999  0.99830365]\n",
      " [ 2.95558786  0.99689072]\n",
      " [ 2.93427038  1.00034106]\n",
      " [ 2.91773176  1.00525486]\n",
      " [ 2.92430639  1.00303209]\n",
      " [ 2.93374491  1.00046384]\n",
      " [ 2.96219873  0.99633014]\n",
      " [ 2.91786623  1.00520575]\n",
      " [ 2.94868279  0.99770808]\n",
      " [ 2.90301037  1.01167369]\n",
      " [ 2.92729306  1.00214291]\n",
      " [ 2.97172546  0.99583334]\n",
      " [ 2.95765686  0.99669373]\n",
      " [ 2.96116877  0.99640453]\n",
      " [ 2.95848775  0.99662024]\n",
      " [ 2.94600487  0.99809682]\n",
      " [ 2.92416883  1.00307465]\n",
      " [ 2.93807411  0.99951124]\n",
      " [ 2.92586374  1.00255942]\n",
      " [ 2.93475986  1.0002284 ]\n",
      " [ 2.90278387  1.01178885]\n",
      " [ 2.92660618  1.00234103]\n",
      " [ 2.96941829  0.99592459]\n",
      " [ 2.93768263  0.99959207]\n",
      " [ 2.95268011  0.99720377]\n",
      " [ 2.95343781  0.99711818]\n",
      " [ 2.93059015  1.00124478]\n",
      " [ 2.92762375  1.00204909]\n",
      " [ 2.95071268  0.99744117]\n",
      " [ 2.90350962  1.0114212 ]\n",
      " [ 2.94684315  0.9979707 ]\n",
      " [ 2.94322801  0.99854594]\n",
      " [ 2.91704512  1.00550902]\n",
      " [ 2.91127348  1.00781512]\n",
      " [ 2.9110322   1.00791848]\n",
      " [ 2.92993307  1.00141692]\n",
      " [ 2.9392724   0.99927109]\n",
      " [ 2.93571997  1.0000124 ]\n",
      " [ 2.82257056  1.0903883 ]\n",
      " [ 2.90153646  1.01243365]\n",
      " [ 2.8222611   1.09084797]\n",
      " [ 2.91581678  1.00597394]\n",
      " [ 2.94103813  0.99893451]\n",
      " [ 2.83577728  1.07191753]\n",
      " [ 2.88673568  1.02134919]\n",
      " [ 2.83542562  1.07238019]\n",
      " [ 2.90065169  1.01290095]\n",
      " [ 2.91898012  1.0048039 ]\n",
      " [ 2.90437269  1.01099062]\n",
      " [ 2.88729906  1.02096581]\n",
      " [ 2.83740759  1.06979263]\n",
      " [ 2.91450167  1.00648725]\n",
      " [ 2.84440112  1.06106508]\n",
      " [ 2.86100483  1.04284811]\n",
      " [ 2.92210174  1.0037359 ]\n",
      " [ 2.85919571  1.04466355]\n",
      " [ 2.89839745  1.01412785]\n",
      " [ 2.88466835  1.02278745]\n",
      " [ 2.89660549  1.01514149]\n",
      " [ 2.88313341  1.02388668]\n",
      " [ 2.8027091   1.12232232]\n",
      " [ 2.8380208   1.06900203]\n",
      " [ 2.90727234  1.00959921]\n",
      " [ 2.89344263  1.01701438]\n",
      " [ 2.8621583   1.04171193]\n",
      " [ 2.85801935  1.04586613]\n",
      " [ 2.89076972  1.018682  ]\n",
      " [ 2.84351754  1.06213295]\n",
      " [ 2.86714792  1.03698766]\n",
      " [ 2.76546431  1.19470632]\n",
      " [ 2.86862755  1.0356456 ]\n",
      " [ 2.82095432  1.09280193]\n",
      " [ 2.87967443  1.02646434]\n",
      " [ 2.84626985  1.05883932]\n",
      " [ 2.82367969  1.08875132]\n",
      " [ 2.80466962  1.11895263]\n",
      " [ 2.87524891  1.02996671]\n",
      " [ 2.83359361  1.07481718]\n",
      " [ 2.85326099  1.05090868]\n",
      " [ 2.80154514  1.12434435]\n",
      " [ 2.80990076  1.1101923 ]\n",
      " [ 2.76693487  1.19156766]\n",
      " [ 2.81538105  1.10137844]\n",
      " [ 2.7630136   1.19998324]\n",
      " [ 2.99541044  0.99554724]\n",
      " [ 2.78248358  1.15973127]\n",
      " [ 2.71618009  1.31010318]\n",
      " [ 2.73131371  1.272874  ]\n",
      " [ 2.69310117  1.3687098 ]\n",
      " [ 2.63536501  1.51545441]] 100\n"
     ]
    }
   ],
   "source": [
    "print(selected, len(selected))"
   ]
  },
  {
   "cell_type": "code",
   "execution_count": 83,
   "metadata": {},
   "outputs": [
    {
     "name": "stdout",
     "output_type": "stream",
     "text": [
      "after selection: 4.403847\n"
     ]
    }
   ],
   "source": [
    "print(\"after selection: %f\" % calculate_2d_hv(selected))"
   ]
  }
 ],
 "metadata": {
  "kernelspec": {
   "display_name": "Python 3",
   "language": "python",
   "name": "python3"
  },
  "language_info": {
   "codemirror_mode": {
    "name": "ipython",
    "version": 3
   },
   "file_extension": ".py",
   "mimetype": "text/x-python",
   "name": "python",
   "nbconvert_exporter": "python",
   "pygments_lexer": "ipython3",
   "version": "3.5.2"
  }
 },
 "nbformat": 4,
 "nbformat_minor": 2
}
