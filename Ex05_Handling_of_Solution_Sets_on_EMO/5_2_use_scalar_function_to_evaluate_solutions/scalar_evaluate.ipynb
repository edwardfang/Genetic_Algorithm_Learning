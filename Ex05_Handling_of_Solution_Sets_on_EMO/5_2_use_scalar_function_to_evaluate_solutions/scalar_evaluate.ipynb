{
 "cells": [
  {
   "cell_type": "markdown",
   "metadata": {},
   "source": [
    "# Scalar Evaluation\n",
    "\n",
    "## Utility Functions"
   ]
  },
  {
   "cell_type": "code",
   "execution_count": 287,
   "metadata": {},
   "outputs": [],
   "source": [
    "import numpy as np\n",
    "import itertools\n",
    "from numpy import unravel_index"
   ]
  },
  {
   "cell_type": "code",
   "execution_count": 205,
   "metadata": {},
   "outputs": [],
   "source": [
    "def subset_sum(numbers, target, length, result, partial=[]):\n",
    "    s = sum(partial)\n",
    "    #print(partial)\n",
    "    # check if the partial sum is equals to target\n",
    "    if round(s,15) == target and len(partial) == length:\n",
    "        result.append([round(x, 15) for x in partial])\n",
    "    if s > target or len(partial)> length:\n",
    "        return  # if we reach the number why bother to continue\n",
    "    for i in range(len(numbers)):\n",
    "        n = numbers[i]\n",
    "        subset_sum(numbers, target, length, result, partial + [n])"
   ]
  },
  {
   "cell_type": "code",
   "execution_count": 206,
   "metadata": {},
   "outputs": [],
   "source": [
    "def weight_gen(M, H):\n",
    "    weight_comps = list()\n",
    "    weight_comps.append(0)\n",
    "    for i in range(H):\n",
    "        weight_comps.append(weight_comps[-1] + 1)\n",
    "    #print(weight_comps)\n",
    "    permu = list()\n",
    "    subset_sum(weight_comps, H, M, permu)\n",
    "#     for perm in permu:\n",
    "#         perm.append(round(1-sum(perm),15))\n",
    "    print(\"total:%d\" % len(permu))\n",
    "    return permu"
   ]
  },
  {
   "cell_type": "code",
   "execution_count": 366,
   "metadata": {},
   "outputs": [],
   "source": [
    "def get_best_solutions(W_vecs, data):\n",
    "    best_result = list()\n",
    "    for vec in W_vecs:\n",
    "        result = np.array(vec*data.T)\n",
    "        tmp = result.reshape((result.shape[1],))\n",
    "        tmp = tmp[::-1]\n",
    "        #print(np.argmax(tmp), len(tmp))\n",
    "        max_idx = len(tmp) - np.argmax(tmp) - 1\n",
    "        best_result.append(max_idx)\n",
    "    print(W_vecs[0], best_result[0])\n",
    "    return data[np.array(best_result),:]"
   ]
  },
  {
   "cell_type": "markdown",
   "metadata": {},
   "source": [
    "## Testing"
   ]
  },
  {
   "cell_type": "code",
   "execution_count": 371,
   "metadata": {},
   "outputs": [
    {
     "name": "stdout",
     "output_type": "stream",
     "text": [
      "total:4845\n"
     ]
    }
   ],
   "source": [
    "M = 5\n",
    "H = 16\n",
    "data = np.matrix(np.loadtxt('dtlz2_%dobj.txt' % M))\n",
    "wv = weight_gen(M, H)"
   ]
  },
  {
   "cell_type": "code",
   "execution_count": 372,
   "metadata": {
    "scrolled": true
   },
   "outputs": [
    {
     "name": "stdout",
     "output_type": "stream",
     "text": [
      "[0, 0, 0, 0, 16] 98023\n"
     ]
    },
    {
     "data": {
      "text/plain": [
       "matrix([[  1.02408000e-04,   9.68864000e-05,   2.69867000e-04,\n",
       "           2.34156000e-04,   1.00000000e+00],\n",
       "        [  8.64720000e-04,   4.89150000e-04,   8.56516000e-04,\n",
       "           6.61660000e-02,   9.97808000e-01],\n",
       "        [  4.01750000e-04,   1.75677000e-03,   4.52356000e-04,\n",
       "           1.41268000e-01,   9.89970000e-01],\n",
       "        ..., \n",
       "        [  9.89623000e-01,   4.75986000e-02,   2.72736000e-02,\n",
       "           3.41016000e-02,   1.28349000e-01],\n",
       "        [  9.89261000e-01,   1.00543000e-01,   2.10164000e-02,\n",
       "           1.03308000e-01,   1.17884000e-02],\n",
       "        [  9.89623000e-01,   4.75986000e-02,   2.72736000e-02,\n",
       "           3.41016000e-02,   1.28349000e-01]])"
      ]
     },
     "execution_count": 372,
     "metadata": {},
     "output_type": "execute_result"
    }
   ],
   "source": [
    "get_best_solutions(wv, data)"
   ]
  },
  {
   "cell_type": "code",
   "execution_count": null,
   "metadata": {},
   "outputs": [],
   "source": []
  }
 ],
 "metadata": {
  "kernelspec": {
   "display_name": "Python 3",
   "language": "python",
   "name": "python3"
  },
  "language_info": {
   "codemirror_mode": {
    "name": "ipython",
    "version": 3
   },
   "file_extension": ".py",
   "mimetype": "text/x-python",
   "name": "python",
   "nbconvert_exporter": "python",
   "pygments_lexer": "ipython3",
   "version": "3.5.2"
  }
 },
 "nbformat": 4,
 "nbformat_minor": 2
}
