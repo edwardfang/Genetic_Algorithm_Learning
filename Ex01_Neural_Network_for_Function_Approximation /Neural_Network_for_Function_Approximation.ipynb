{
 "cells": [
  {
   "cell_type": "code",
   "execution_count": 123,
   "metadata": {},
   "outputs": [],
   "source": [
    "import os\n",
    "import numpy as np\n",
    "import matplotlib\n",
    "import matplotlib.pyplot as plt\n",
    "# from numpy.random import random, shuffle\n",
    "%matplotlib inline"
   ]
  },
  {
   "cell_type": "code",
   "execution_count": 154,
   "metadata": {},
   "outputs": [],
   "source": [
    "data_points = np.array([[0.1,0.3], [0.2, 0.6], [0.5,0.5], [0.7,0.4], [0.9,0.8]])\n",
    "X = data_points[:, 0].reshape((1,5))\n",
    "Y = data_points[:, 1].reshape((1,5))\n",
    "learning_rate = 0.5\n",
    "momentum = 0.9\n",
    "'''\n",
    "w1 = np.array([[0.5]])\n",
    "w2 = np.ones((20,1))*0.5\n",
    "w3 = np.ones((1,20))*0.5\n",
    "'''\n",
    "w1 = (np.random.random((1,1))-0.5)\n",
    "w2 = (np.random.random((20,1))-0.5)\n",
    "w3 = (np.random.random((1,20))-0.5)\n",
    "b1 = np.array([[0.5]])\n",
    "b2 = np.ones((20,1))*0.5\n",
    "b3 = np.array([[0.5]])\n",
    "W = [w1,w2,w3]\n",
    "B = [b1,b2,b3]\n",
    "A = dict()\n",
    "Z = dict()\n",
    "g_W_prev = [np.zeros((1,1)),np.zeros((20,1)), np.zeros((1,20))]\n",
    "g_B_prev = [np.zeros((1,1)),np.zeros((20,1)), np.zeros((1,1))]"
   ]
  },
  {
   "cell_type": "code",
   "execution_count": 51,
   "metadata": {},
   "outputs": [],
   "source": [
    "def sigmoid(x):\n",
    "    return 1 / (1 + np.exp(-x))\n",
    "\n",
    "def d_sigmoid(x):\n",
    "    f = sigmoid(x)\n",
    "    df = f * (1 - f)\n",
    "    return df"
   ]
  },
  {
   "cell_type": "code",
   "execution_count": 49,
   "metadata": {},
   "outputs": [],
   "source": [
    "def forward_prop(X, W, B):\n",
    "    '''\n",
    "    All output function the same: sigmoid\n",
    "    '''\n",
    "    input_vec = X\n",
    "    for idx in range(len(W)):\n",
    "        Z[idx] = W[idx].dot(input_vec) + B[idx]\n",
    "        A[idx] = sigmoid(Z[idx])\n",
    "        input_vec = A[idx]\n",
    "    return Z, A"
   ]
  },
  {
   "cell_type": "code",
   "execution_count": 58,
   "metadata": {},
   "outputs": [],
   "source": [
    "def back_prop(Y, W, B, X, A, Z):\n",
    "    N = A[2].shape[1]\n",
    "\n",
    "    delta3 = - (Y - A[2])\n",
    "    delta2 = (W[2].T.dot(delta3))*d_sigmoid(Z[1])\n",
    "    delta1 = (W[1].T.dot(delta2))*d_sigmoid(Z[0])\n",
    "    \n",
    "    g_w3 = delta3.dot(A[1].T)/ N\n",
    "    g_w2 = delta2.dot(A[0].T)/ N\n",
    "    g_w1 = delta1.dot(X.T)/ N\n",
    "\n",
    "    g_b1 = np.mean(delta1, axis=1, keepdims=True)\n",
    "    g_b2 = np.mean(delta2, axis=1, keepdims=True)\n",
    "    g_b3 = np.mean(delta3, axis=1, keepdims=True)\n",
    "    \n",
    "    return [g_w1,g_w2,g_w3], [g_b1,g_b2,g_b3]"
   ]
  },
  {
   "cell_type": "code",
   "execution_count": 73,
   "metadata": {},
   "outputs": [],
   "source": [
    "def update(g_W, g_B):\n",
    "    for idx, paras in enumerate(zip(W, g_W)):\n",
    "        W[idx] -= paras[1] * learning_rate + g_W_prev[idx]\n",
    "    for idx, paras in enumerate(zip(B, g_B)):\n",
    "        B[idx] -= paras[1] * learning_rate + g_B_prev[idx]"
   ]
  },
  {
   "cell_type": "code",
   "execution_count": 85,
   "metadata": {},
   "outputs": [],
   "source": [
    "def error():\n",
    "    _, A = forward_prop(X, W, B)\n",
    "    Y_hat = A[2]\n",
    "    loss = np.sum((Y_hat-Y) **2)/2\n",
    "    return loss"
   ]
  },
  {
   "cell_type": "code",
   "execution_count": 148,
   "metadata": {},
   "outputs": [],
   "source": [
    "def iterate():\n",
    "    Z, A = forward_prop(X, W, B)\n",
    "    g_W, g_B = back_prop(Y, W, B, X, A, Z)\n",
    "    update(g_W, g_B)"
   ]
  },
  {
   "cell_type": "code",
   "execution_count": 139,
   "metadata": {},
   "outputs": [],
   "source": [
    "def test(test_x):\n",
    "    _ , A = forward_prop(np.array([test_x]), W, B)\n",
    "    return A[2]"
   ]
  },
  {
   "cell_type": "code",
   "execution_count": 145,
   "metadata": {},
   "outputs": [],
   "source": [
    "def get_figure():\n",
    "    plt.scatter(X, Y)\n",
    "    axes = plt.gca()\n",
    "    axes.set_xlim([0,1])\n",
    "    axes.set_ylim([0,1])\n",
    "    test_x = np.linspace(0, 1, 1000)\n",
    "    test_y = test(test_x)\n",
    "    test_y = test_y.reshape(1000)\n",
    "    plt.plot(test_x, test_y)"
   ]
  },
  {
   "cell_type": "markdown",
   "metadata": {},
   "source": [
    "# Results\n",
    "\n",
    "## Initial error / figure"
   ]
  },
  {
   "cell_type": "code",
   "execution_count": 155,
   "metadata": {},
   "outputs": [
    {
     "data": {
      "text/plain": [
       "0.088198359849636726"
      ]
     },
     "execution_count": 155,
     "metadata": {},
     "output_type": "execute_result"
    }
   ],
   "source": [
    "error()"
   ]
  },
  {
   "cell_type": "code",
   "execution_count": 156,
   "metadata": {},
   "outputs": [
    {
     "data": {
      "image/png": "[encoded data removed]",
      "text/plain": [
       "<matplotlib.figure.Figure at 0x7f14bc5b23c8>"
      ]
     },
     "metadata": {},
     "output_type": "display_data"
    }
   ],
   "source": [
    "get_figure()"
   ]
  },
  {
   "cell_type": "code",
   "execution_count": 149,
   "metadata": {},
   "outputs": [],
   "source": [
    "for _ in range(30000):\n",
    "    iterate()"
   ]
  },
  {
   "cell_type": "markdown",
   "metadata": {},
   "source": [
    "## After 3000 Iterations"
   ]
  },
  {
   "cell_type": "code",
   "execution_count": 151,
   "metadata": {},
   "outputs": [
    {
     "data": {
      "text/plain": [
       "0.028231687808745371"
      ]
     },
     "execution_count": 151,
     "metadata": {},
     "output_type": "execute_result"
    }
   ],
   "source": [
    "error()"
   ]
  },
  {
   "cell_type": "code",
   "execution_count": 150,
   "metadata": {},
   "outputs": [
    {
     "data": {
      "image/png": "[encoded data removed]",
      "text/plain": [
       "<matplotlib.figure.Figure at 0x7f14bc583c88>"
      ]
     },
     "metadata": {},
     "output_type": "display_data"
    }
   ],
   "source": [
    "get_figure()"
   ]
  },
  {
   "cell_type": "markdown",
   "metadata": {},
   "source": [
    "## After 150000 Iterations"
   ]
  },
  {
   "cell_type": "code",
   "execution_count": 167,
   "metadata": {},
   "outputs": [],
   "source": [
    "for _ in range(100000):\n",
    "    iterate()"
   ]
  },
  {
   "cell_type": "code",
   "execution_count": 168,
   "metadata": {},
   "outputs": [
    {
     "data": {
      "image/png": "[encoded data removed]",
      "text/plain": [
       "<matplotlib.figure.Figure at 0x7f14bc931278>"
      ]
     },
     "metadata": {},
     "output_type": "display_data"
    }
   ],
   "source": [
    "get_figure()"
   ]
  },
  {
   "cell_type": "code",
   "execution_count": 170,
   "metadata": {},
   "outputs": [
    {
     "data": {
      "text/plain": [
       "0.0234273264363664"
      ]
     },
     "execution_count": 170,
     "metadata": {},
     "output_type": "execute_result"
    }
   ],
   "source": [
    "error()"
   ]
  }
 ],
 "metadata": {
  "kernelspec": {
   "display_name": "Python 3",
   "language": "python",
   "name": "python3"
  },
  "language_info": {
   "codemirror_mode": {
    "name": "ipython",
    "version": 3
   },
   "file_extension": ".py",
   "mimetype": "text/x-python",
   "name": "python",
   "nbconvert_exporter": "python",
   "pygments_lexer": "ipython3",
   "version": "3.5.2"
  }
 },
 "nbformat": 4,
 "nbformat_minor": 2
}
