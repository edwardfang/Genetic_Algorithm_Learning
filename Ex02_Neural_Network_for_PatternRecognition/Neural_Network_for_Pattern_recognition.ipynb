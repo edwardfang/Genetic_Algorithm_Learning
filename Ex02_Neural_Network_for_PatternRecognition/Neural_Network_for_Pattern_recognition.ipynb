{
 "cells": [
  {
   "cell_type": "code",
   "execution_count": 1,
   "metadata": {},
   "outputs": [],
   "source": [
    "import os\n",
    "import numpy as np\n",
    "import matplotlib\n",
    "import matplotlib.pyplot as plt\n",
    "# from numpy.random import random, shuffle\n",
    "%matplotlib inline"
   ]
  },
  {
   "cell_type": "code",
   "execution_count": 2,
   "metadata": {},
   "outputs": [
    {
     "name": "stdout",
     "output_type": "stream",
     "text": [
      "(16, 2) (16, 3)\n",
      "(2, 16) (3, 16)\n"
     ]
    }
   ],
   "source": [
    "data = np.loadtxt(\"input.data\")\n",
    "X, Y = np.split(data,[2], 1)\n",
    "print(X.shape, Y.shape)\n",
    "X = X.T\n",
    "Y = Y.T\n",
    "print(X.shape, Y.shape)"
   ]
  },
  {
   "cell_type": "code",
   "execution_count": 46,
   "metadata": {},
   "outputs": [],
   "source": [
    "learning_rate = 0.5\n",
    "momentum = 0.8\n",
    "'''\n",
    "w1 = np.array([[0.5]])\n",
    "w2 = np.ones((20,1))*0.5\n",
    "w3 = np.ones((1,20))*0.5\n",
    "'''\n",
    "n_units = 20\n",
    "dim_input = 2\n",
    "dim_output = 3\n",
    "w1 = (np.ones((dim_input, dim_input))*0.5)\n",
    "w2 = (np.ones((n_units, dim_input))*0.5)\n",
    "w3 = (np.ones((dim_output, n_units))*0.5)\n",
    "b1 = np.ones((dim_input, 1))*0.5\n",
    "b2 = np.ones((n_units,1))*0.5\n",
    "b3 = np.ones((dim_output, 1))*0.5\n",
    "W = [w1,w2,w3]\n",
    "B = [b1,b2,b3]\n",
    "A = dict()\n",
    "Z = dict()\n",
    "g_W_prev = [0*w1, 0*w2, 0*w3]\n",
    "g_B_prev = [0*b1, 0*b2, 0*b3]"
   ]
  },
  {
   "cell_type": "code",
   "execution_count": 47,
   "metadata": {},
   "outputs": [],
   "source": [
    "def sigmoid(x):\n",
    "    return 1 / (1 + np.exp(-x))\n",
    "\n",
    "def d_sigmoid(x):\n",
    "    f = sigmoid(x)\n",
    "    df = f * (1 - f)\n",
    "    return df"
   ]
  },
  {
   "cell_type": "code",
   "execution_count": 48,
   "metadata": {},
   "outputs": [],
   "source": [
    "def relu(vector):\n",
    "    '''\n",
    "    ReLU function Max{0, vector} for hidden layer\n",
    "    '''\n",
    "    new = np.empty_like(vector)\n",
    "    np.maximum(vector, 0, new)\n",
    "    return new\n",
    "\n",
    "def d_relu(X):\n",
    "    # 0-1 \n",
    "    return np.where(X < 0, 0, 1)"
   ]
  },
  {
   "cell_type": "code",
   "execution_count": 49,
   "metadata": {},
   "outputs": [],
   "source": [
    "def forward_prop(X, W, B):\n",
    "    '''\n",
    "    All output function the same: sigmoid\n",
    "    '''\n",
    "    input_vec = X\n",
    "    #print(X)\n",
    "    for idx in range(len(W)):\n",
    "        # print(W[idx], input_vec)\n",
    "        Z[idx] = W[idx].dot(input_vec) + B[idx]\n",
    "        A[idx] = sigmoid(Z[idx])\n",
    "        input_vec = A[idx]\n",
    "    return Z, A"
   ]
  },
  {
   "cell_type": "code",
   "execution_count": 50,
   "metadata": {},
   "outputs": [],
   "source": [
    "def predict(X_test):\n",
    "    #print(X_test.shape)\n",
    "    Y_test = forward_prop(X_test, W, B)[1][len(W)-1]\n",
    "    #print(forward_prop(X_test, W, B)[1])\n",
    "    return np.argmax(Y_test,axis=0)"
   ]
  },
  {
   "cell_type": "code",
   "execution_count": 51,
   "metadata": {},
   "outputs": [],
   "source": [
    "def back_prop(Y, W, B, X, A, Z):\n",
    "    N = A[2].shape[1]\n",
    "\n",
    "    delta3 = - (Y - A[2])\n",
    "    delta2 = (W[2].T.dot(delta3))*d_sigmoid(Z[1])\n",
    "    delta1 = (W[1].T.dot(delta2))*d_sigmoid(Z[0])\n",
    "    \n",
    "    g_w3 = delta3.dot(A[1].T)/ N\n",
    "    g_w2 = delta2.dot(A[0].T)/ N\n",
    "    g_w1 = delta1.dot(X.T)/ N\n",
    "\n",
    "    g_b1 = np.mean(delta1, axis=1, keepdims=True)\n",
    "    g_b2 = np.mean(delta2, axis=1, keepdims=True)\n",
    "    g_b3 = np.mean(delta3, axis=1, keepdims=True)\n",
    "    \n",
    "    return [g_w1,g_w2,g_w3], [g_b1,g_b2,g_b3]"
   ]
  },
  {
   "cell_type": "code",
   "execution_count": 52,
   "metadata": {},
   "outputs": [],
   "source": [
    "def update(g_W, g_B):\n",
    "    for idx, paras in enumerate(zip(W, g_W)):\n",
    "        W[idx] -= paras[1] * learning_rate + g_W_prev[idx]\n",
    "    for idx, paras in enumerate(zip(B, g_B)):\n",
    "        B[idx] -= paras[1] * learning_rate + g_B_prev[idx]"
   ]
  },
  {
   "cell_type": "code",
   "execution_count": 53,
   "metadata": {},
   "outputs": [],
   "source": [
    "def error():\n",
    "    _, A = forward_prop(X, W, B)\n",
    "    Y_hat = A[2]\n",
    "    loss = np.sum((Y_hat-Y) **2)/2\n",
    "    return loss"
   ]
  },
  {
   "cell_type": "code",
   "execution_count": 54,
   "metadata": {},
   "outputs": [],
   "source": [
    "def iterate():\n",
    "    Z, A = forward_prop(X, W, B)\n",
    "    g_W, g_B = back_prop(Y, W, B, X, A, Z)\n",
    "    update(g_W, g_B)"
   ]
  },
  {
   "cell_type": "code",
   "execution_count": 55,
   "metadata": {},
   "outputs": [],
   "source": [
    "def test(test_x):\n",
    "    _ , A = forward_prop(np.array([test_x]), W, B)\n",
    "    return A[2]"
   ]
  },
  {
   "cell_type": "code",
   "execution_count": 56,
   "metadata": {},
   "outputs": [],
   "source": [
    "def get_figure():\n",
    "    plt.scatter(*X)\n",
    "    axes = plt.gca()\n",
    "    axes.set_xlim([0,1])\n",
    "    axes.set_ylim([0,1])\n"
   ]
  },
  {
   "cell_type": "code",
   "execution_count": 57,
   "metadata": {},
   "outputs": [],
   "source": [
    "def make_meshgrid(x, y, h=.02):\n",
    "    \"\"\"Create a mesh of points to plot in\n",
    "\n",
    "    Parameters\n",
    "    ----------\n",
    "    x: data to base x-axis meshgrid on\n",
    "    y: data to base y-axis meshgrid on\n",
    "    h: stepsize for meshgrid, optional\n",
    "\n",
    "    Returns\n",
    "    -------\n",
    "    xx, yy : ndarray\n",
    "    \"\"\"\n",
    "    x_min, x_max = x.min() - 1, x.max() + 1\n",
    "    y_min, y_max = y.min() - 1, y.max() + 1\n",
    "    xx, yy = np.meshgrid(np.arange(x_min, x_max, h),\n",
    "                         np.arange(y_min, y_max, h))\n",
    "    return xx, yy\n",
    "\n",
    "\n",
    "def plot_contours(ax, predict_func, xx, yy, **params):\n",
    "    \"\"\"Plot the decision boundaries for a classifier.\n",
    "\n",
    "    Parameters\n",
    "    ----------\n",
    "    ax: matplotlib axes object\n",
    "    clf: a classifier\n",
    "    xx: meshgrid ndarray\n",
    "    yy: meshgrid ndarray\n",
    "    params: dictionary of params to pass to contourf, optional\n",
    "    \"\"\"\n",
    "    X_test = np.array(list(zip(xx.ravel(),yy.ravel()))).T\n",
    "    Y_test = predict_func(X_test)\n",
    "    Y_test = Y_test.reshape(xx.shape)\n",
    "    out = ax.contour(xx, yy, Y_test, 3, **params)\n",
    "    #out = ax.contourf(xx, yy, Y_test, 3, **params)\n",
    "    return out"
   ]
  },
  {
   "cell_type": "code",
   "execution_count": 58,
   "metadata": {},
   "outputs": [
    {
     "data": {
      "text/plain": [
       "(0, 1)"
      ]
     },
     "execution_count": 58,
     "metadata": {},
     "output_type": "execute_result"
    },
    {
     "data": {
      "image/png": "[encoded data removed]",
      "text/plain": [
       "<matplotlib.figure.Figure at 0x7f96488508d0>"
      ]
     },
     "metadata": {},
     "output_type": "display_data"
    }
   ],
   "source": [
    "plt.figure(figsize=(6,6))\n",
    "color_mapping = {0:'red', 1:'green', 2:'blue'}\n",
    "for label, color in color_mapping.items():\n",
    "    plt.scatter(*X[:, np.where(Y[label,:]==1)], c=color)\n",
    "axes = plt.gca()\n",
    "axes.set_xlim([0,1])\n",
    "axes.set_ylim([0,1])"
   ]
  },
  {
   "cell_type": "markdown",
   "metadata": {},
   "source": [
    "# Results\n",
    "\n",
    "## Initial error / figure"
   ]
  },
  {
   "cell_type": "code",
   "execution_count": 59,
   "metadata": {},
   "outputs": [
    {
     "data": {
      "text/plain": [
       "15.991435178437124"
      ]
     },
     "execution_count": 59,
     "metadata": {},
     "output_type": "execute_result"
    }
   ],
   "source": [
    "error()"
   ]
  },
  {
   "cell_type": "markdown",
   "metadata": {},
   "source": [
    "## After 3000 Iterations"
   ]
  },
  {
   "cell_type": "code",
   "execution_count": 60,
   "metadata": {},
   "outputs": [],
   "source": [
    "for _ in range(3000):\n",
    "    iterate()"
   ]
  },
  {
   "cell_type": "code",
   "execution_count": 61,
   "metadata": {},
   "outputs": [
    {
     "data": {
      "text/plain": [
       "array([0])"
      ]
     },
     "execution_count": 61,
     "metadata": {},
     "output_type": "execute_result"
    }
   ],
   "source": [
    "predict(X[:,1].reshape((2,1)))"
   ]
  },
  {
   "cell_type": "code",
   "execution_count": 62,
   "metadata": {},
   "outputs": [
    {
     "data": {
      "text/plain": [
       "(0, 1)"
      ]
     },
     "execution_count": 62,
     "metadata": {},
     "output_type": "execute_result"
    },
    {
     "data": {
      "image/png": "[encoded data removed]",
      "text/plain": [
       "<matplotlib.figure.Figure at 0x7f964870f7b8>"
      ]
     },
     "metadata": {},
     "output_type": "display_data"
    }
   ],
   "source": [
    "plt.figure(figsize=(6,6))\n",
    "color_mapping = {0:'red', 1:'green', 2:'blue'}\n",
    "axes = plt.gca()\n",
    "rag = np.array([0,1])\n",
    "xx,yy = make_meshgrid(rag,rag)\n",
    "plot_contours(axes, predict, xx, yy)\n",
    "for label, color in color_mapping.items():\n",
    "    plt.scatter(*X[:, np.where(Y[label,:]==1)], c=color)\n",
    "axes.set_xlim([0,1])\n",
    "axes.set_ylim([0,1])"
   ]
  },
  {
   "cell_type": "code",
   "execution_count": 63,
   "metadata": {},
   "outputs": [
    {
     "data": {
      "text/plain": [
       "3.4996494126525999"
      ]
     },
     "execution_count": 63,
     "metadata": {},
     "output_type": "execute_result"
    }
   ],
   "source": [
    "error()"
   ]
  }
 ],
 "metadata": {
  "kernelspec": {
   "display_name": "Python 3",
   "language": "python",
   "name": "python3"
  },
  "language_info": {
   "codemirror_mode": {
    "name": "ipython",
    "version": 3
   },
   "file_extension": ".py",
   "mimetype": "text/x-python",
   "name": "python",
   "nbconvert_exporter": "python",
   "pygments_lexer": "ipython3",
   "version": "3.5.2"
  }
 },
 "nbformat": 4,
 "nbformat_minor": 2
}
