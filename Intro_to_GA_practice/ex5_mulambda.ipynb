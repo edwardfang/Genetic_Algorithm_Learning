{
 "cells": [
  {
   "cell_type": "code",
   "execution_count": 97,
   "metadata": {},
   "outputs": [],
   "source": [
    "import numpy as np\n",
    "import functools"
   ]
  },
  {
   "cell_type": "code",
   "execution_count": 98,
   "metadata": {},
   "outputs": [],
   "source": [
    "def evaluateOrderOne(vector):\n",
    "    '''\n",
    "    Input: vector\n",
    "    '''\n",
    "    return np.sum(vector)\n",
    "\n",
    "def __evaluate3Dvector(v):\n",
    "    #print(v)\n",
    "    tmp = np.sum(v)\n",
    "    if tmp == 3:\n",
    "        return 30\n",
    "    elif tmp == 2:\n",
    "        return 0\n",
    "    elif tmp == 0:\n",
    "        return 28\n",
    "    else:\n",
    "        if v[0]==1 :\n",
    "            return 14\n",
    "        elif v[1] == 1:\n",
    "            return 22\n",
    "        elif v[2] == 1:\n",
    "            return 26\n",
    "\n",
    "def evaluateOrderThree(vector):\n",
    "    '''\n",
    "    Input: 3d vector\n",
    "    '''\n",
    "    try:\n",
    "        if vector.shape[0]>3:\n",
    "            s = 0\n",
    "            # print(int(vector.shape[0]/3),3)\n",
    "            newv = np.reshape(vector,(int(vector.shape[0]/3),3))\n",
    "            # print(newv)\n",
    "            for v in newv:\n",
    "                # print(v)\n",
    "                s += __evaluate3Dvector(v)\n",
    "            return s\n",
    "        else:\n",
    "            return  __evaluate3Dvector(vector)\n",
    "    except Exception:\n",
    "        print(\"vector length invalid\",Exception)\n",
    "        "
   ]
  },
  {
   "cell_type": "code",
   "execution_count": 99,
   "metadata": {},
   "outputs": [
    {
     "data": {
      "text/plain": [
       "5"
      ]
     },
     "execution_count": 99,
     "metadata": {},
     "output_type": "execute_result"
    }
   ],
   "source": [
    "evaluateOrderThree(np.array([1,0,0,1,1,0,1,1,0]))\n",
    "evaluateOrderOne(np.array([1,0,0,1,1,0,1,1,0]))"
   ]
  },
  {
   "cell_type": "code",
   "execution_count": 100,
   "metadata": {},
   "outputs": [],
   "source": [
    "def bitflip_mutation(bit, probability):\n",
    "    if np.random.rand() < probability:\n",
    "        if bit == 1:\n",
    "            return 0.\n",
    "        else:\n",
    "            return 1.\n",
    "    else:\n",
    "        return bit\n",
    "\n",
    "\n",
    "def uniform_crossover(i1,i2):\n",
    "    D = i1.shape[0]\n",
    "    u = np.empty((D,))\n",
    "    for i in range(D):\n",
    "        # print(P[i1][i],P[i2][i])\n",
    "        u[i] = np.random.choice(np.array([i1[i],i2[i]]))\n",
    "    return u"
   ]
  },
  {
   "cell_type": "code",
   "execution_count": 101,
   "metadata": {},
   "outputs": [],
   "source": [
    "def random_init(number,P,D, evaluate_func):\n",
    "    '''\n",
    "    initialize and evaluate the population\n",
    "    number: number of the individuals\n",
    "    P: the list for the population and value\n",
    "    D: dimension\n",
    "    '''\n",
    "    for i in range(number):\n",
    "        vector = np.random.choice(np.array([0,1]),(D,))\n",
    "        P.append((vector,evaluate_func(vector)))\n",
    "    return P"
   ]
  },
  {
   "cell_type": "code",
   "execution_count": 114,
   "metadata": {},
   "outputs": [
    {
     "name": "stdout",
     "output_type": "stream",
     "text": [
      "False (None, -1)\n",
      "# of generation: 26\n",
      "optimal value: 24\n",
      "[(26, 750)]\n"
     ]
    }
   ],
   "source": [
    "def GEAlgorithm():\n",
    "    '''\n",
    "    the main algorithm\n",
    "    '''\n",
    "    n = 0\n",
    "    t = 1\n",
    "    D = 24\n",
    "    mu = 20\n",
    "    pm = 1/D # mutation rate\n",
    "    lambda_ = 30\n",
    "    evaluate_func = evaluateOrderOne\n",
    "    # Algorithm 2: The initialization procedure of the population\n",
    "    P = list()\n",
    "    P = random_init(mu,P,D,evaluate_func)\n",
    "    # print(P)\n",
    "    terminate = False\n",
    "    x_bsf = (None,-1)\n",
    "    for x,y in P:\n",
    "        if y == evaluate_func(np.ones(D)):\n",
    "            terminate = True\n",
    "            x_bsf = (x,y)\n",
    "    print(terminate,x_bsf)\n",
    "    \n",
    "    while(not terminate):\n",
    "        Q = list()\n",
    "        for i in range(lambda_):\n",
    "            # Step1: Mating selection: generate two distinct random number\n",
    "            r = np.arange(len(P))\n",
    "            np.random.shuffle(r)\n",
    "            selected = r[:2]\n",
    "            #print(selected)\n",
    "            # Step2: Variation operator : Crossover\n",
    "            u = uniform_crossover(P[selected[0]][0],P[selected[1]][0])\n",
    "            # print(u)\n",
    "            # Step3: Variation operator2: Mutation\n",
    "            vfunc = np.vectorize(functools.partial(bitflip_mutation, probability=pm))\n",
    "            u = vfunc(u)\n",
    "            # print(u)\n",
    "            # Step4: Evaluate\n",
    "            new_value = evaluate_func(u)\n",
    "            # print(\"New value:\" + str(newvalue))\n",
    "            n += 1\n",
    "            Q.append((u,new_value))\n",
    "            \n",
    "            # Step5: Update bsf solution\n",
    "            \n",
    "            if(new_value >x_bsf[1]):\n",
    "                x_bsf=(u,new_value)\n",
    "            \n",
    "        # Step6: Environment Selection\n",
    "        R = P + Q\n",
    "        sort_result = sorted(R,key=lambda x:x[1],reverse=True)\n",
    "        P = sort_result[:int(len(R)/2)]\n",
    "        t += 1\n",
    "        if(new_value == evaluate_func(np.ones(D))):\n",
    "            terminate = True\n",
    "\n",
    "    print(\"# of generation:\", t)\n",
    "    print(\"optimal value: %d\"%x_bsf[1] )\n",
    "    return (t,n)\n",
    "\n",
    "\n",
    "if __name__ == \"__main__\":\n",
    "    count = list()\n",
    "    totaltimes = 1\n",
    "    for i in range(totaltimes):\n",
    "        count.append(GEAlgorithm())\n",
    "        print(count)\n",
    "    # print(\"Average # of generations %f\" % (sum(count)/float(totaltimes)))"
   ]
  }
 ],
 "metadata": {
  "kernelspec": {
   "display_name": "Python 3",
   "language": "python",
   "name": "python3"
  },
  "language_info": {
   "codemirror_mode": {
    "name": "ipython",
    "version": 3
   },
   "file_extension": ".py",
   "mimetype": "text/x-python",
   "name": "python",
   "nbconvert_exporter": "python",
   "pygments_lexer": "ipython3",
   "version": "3.5.2"
  }
 },
 "nbformat": 4,
 "nbformat_minor": 2
}
