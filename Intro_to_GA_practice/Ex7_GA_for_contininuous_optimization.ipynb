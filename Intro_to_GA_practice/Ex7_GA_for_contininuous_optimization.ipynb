{
 "cells": [
  {
   "cell_type": "code",
   "execution_count": 1,
   "metadata": {},
   "outputs": [],
   "source": [
    "import numpy as np   "
   ]
  },
  {
   "cell_type": "code",
   "execution_count": 2,
   "metadata": {},
   "outputs": [],
   "source": [
    "def evaluate_Sphere(x):\n",
    "    '''\n",
    "    Unimodal, separable\n",
    "    '''\n",
    "    return sum(x**2)\n",
    "\n",
    "def evaluate_Rastrigin(x):\n",
    "    '''\n",
    "    Strong multimodal, separable\n",
    "    '''\n",
    "    return sum(x**2-10*np.cos(2*np.pi*x)+10)\n",
    "\n",
    "def evaluate_Rosenbrock(x):\n",
    "    '''\n",
    "    Weak multimodal, nonseparable\n",
    "    '''\n",
    "    return sum(100*(x[1:]-x[0:-1]**2)**2+(x[0:-1]-1)**2)"
   ]
  },
  {
   "cell_type": "code",
   "execution_count": 151,
   "metadata": {},
   "outputs": [
    {
     "data": {
      "text/plain": [
       "31.196129856073789"
      ]
     },
     "execution_count": 151,
     "metadata": {},
     "output_type": "execute_result"
    }
   ],
   "source": [
    "evaluate_Rosenbrock(np.array([-2.33872135,   5.47679046,  30. ]))"
   ]
  },
  {
   "cell_type": "code",
   "execution_count": 3,
   "metadata": {},
   "outputs": [],
   "source": [
    "def random_init(mu,P,D, evaluate_func,minimum,maximum):\n",
    "    '''\n",
    "    P:list\n",
    "    mu: number of the population\n",
    "    minimun: min of the domain\n",
    "    maximun: max of the domain\n",
    "    '''\n",
    "    for i in range(mu):\n",
    "        vector = np.random.rand(D)*(maximum-minimum)+minimum\n",
    "        value = evaluate_func(vector)\n",
    "        P.append((vector,value))\n",
    "    return P"
   ]
  },
  {
   "cell_type": "code",
   "execution_count": 26,
   "metadata": {},
   "outputs": [],
   "source": [
    "def BLX_alpha_cross(pa,pb,alpha,minimum,maximum):\n",
    "    '''\n",
    "    a special crossover mechanism for continuous optimization\n",
    "    '''\n",
    "    A = np.minimum(pa,pb) - alpha*np.abs(pa-pb)\n",
    "    B = np.maximum(pa,pb) + alpha*np.abs(pa-pb)\n",
    "    choice = np.random.choice(np.array([0,1]),size=(len(pa)))\n",
    "    u = A*choice+B*(1-choice)\n",
    "    u = np.minimum(u,maximum)\n",
    "    u = np.maximum(u,minimum)\n",
    "    return u"
   ]
  },
  {
   "cell_type": "code",
   "execution_count": 70,
   "metadata": {},
   "outputs": [
    {
     "data": {
      "text/plain": [
       "array([-0.5,  5. , -0.5,  5. ,  5. ])"
      ]
     },
     "execution_count": 70,
     "metadata": {},
     "output_type": "execute_result"
    }
   ],
   "source": [
    "pa = np.array([1,7,1,1,1])\n",
    "pb = np.array([5,6,5,5,5])\n",
    "\n",
    "BLX_alpha_cross(pa,pb,0.5,-0.5,5)"
   ]
  },
  {
   "cell_type": "code",
   "execution_count": 6,
   "metadata": {},
   "outputs": [],
   "source": [
    "s = np.random.choice(np.array([0,1]),size=(len(pa)))\n",
    "x = [2,2,2,2,2]\n",
    "y = [3,3,3,3,3]\n"
   ]
  },
  {
   "cell_type": "code",
   "execution_count": 199,
   "metadata": {},
   "outputs": [],
   "source": [
    "def genetic_algorithm():\n",
    "    D,alpha = 5,0.2\n",
    "    P = list()\n",
    "    n,t = 0,0\n",
    "    mu = 200\n",
    "    lambda_ = mu\n",
    "    evaluate_func, minimum, maximum = evaluate_Rastrigin, -5.12, 5.12\n",
    "    P = random_init(mu,P,D,evaluate_func ,minimum,maximum)\n",
    "    #print(P)\n",
    "    x_bsf = sorted(P,key=lambda x:x[1])[0]\n",
    "    #x_bsf_old = x_bsf\n",
    "    count_approx = 0\n",
    "    percision_abs = 1e-8\n",
    "    while(x_bsf[1]>1e-8):\n",
    "    #while(count_approx<200):\n",
    "        #print(count_approx)\n",
    "        Q = list()\n",
    "        updated = False\n",
    "        #print(len(P))\n",
    "        for i in range(lambda_):\n",
    "            # Step1 Mating Selection\n",
    "            r = np.arange(len(P))\n",
    "            np.random.shuffle(r)\n",
    "            selected = r[:2]\n",
    "            #print(selected)\n",
    "            # Step2: Variation operator : Order Crossover\n",
    "            u = BLX_alpha_cross(P[selected[0]][0],P[selected[1]][0],alpha,minimum,maximum)\n",
    "            # Step3: Variation operator2: inversion_mutation\n",
    "            # Step4: Evaluate\n",
    "            new_value = evaluate_func(u)\n",
    "            n += 1\n",
    "            Q.append((u,new_value))\n",
    "            # Step5: Update bsf solution\n",
    "            if x_bsf[1]-new_value>percision_abs:\n",
    "                updated = True\n",
    "                print(x_bsf)\n",
    "                x_bsf=(u,new_value)\n",
    "        # Step6: Environment Selection\n",
    "        R = P + Q\n",
    "        sort_result = sorted(R,key=lambda x:x[1])\n",
    "        P = sort_result[:int(len(R)/2)]\n",
    "        t += 1\n",
    "        if updated == True:\n",
    "            #print(x_bsf)\n",
    "            count_approx = 0\n",
    "        else:\n",
    "            count_approx += 1\n",
    "    return (x_bsf,t,n)\n",
    "    "
   ]
  },
  {
   "cell_type": "code",
   "execution_count": 200,
   "metadata": {},
   "outputs": [
    {
     "name": "stdout",
     "output_type": "stream",
     "text": [
      "(array([ 1.96272524, -0.95518482, -0.19314356, -3.02314352,  1.97818911]), 25.223841375013848)\n",
      "(array([ 0.89431898,  2.01528533,  0.03115263, -0.02235102,  2.12236878]), 14.640338547465863)\n",
      "(array([-0.94173387, -1.94715734,  2.00894067,  1.97535431,  0.02298331]), 14.065026366600325)\n",
      "(array([-1.90585906, -1.10229961,  0.86920711, -0.06334128, -0.01571994]), 13.322950299294122)\n",
      "(array([-0.98031593,  0.07261368,  0.95660098,  0.89319184, -2.11505067]), 13.290932873141639)\n",
      "(array([-0.05425011, -0.04071909, -0.04832044,  1.010668  , -0.9040986 ]), 4.9875918489139144)\n",
      "(array([-0.01346058, -0.99898846,  0.99607015,  1.02697379, -0.07381027]), 4.2889549435187622)\n",
      "(array([ 0.07532059,  0.06114098, -0.01367368,  0.97170984,  0.0229921 ]), 3.080924086594834)\n",
      "(array([  2.88146952e-02,   8.66147106e-04,   6.68000682e-02,\n",
      "         9.89092919e-01,   2.40527059e-02]), 2.1531814094292425)\n",
      "(array([ 0.05977832,  0.01871826,  0.02632573,  1.01709952,  0.02781768]), 2.1525886818076785)\n",
      "(array([-0.00877217,  0.00765193,  0.00276919,  0.92353969,  0.00234674]), 2.0143807551349777)\n",
      "(array([  3.89688686e-02,   8.54721168e-03,  -1.00333517e-02,\n",
      "         1.00470524e+00,   3.80449710e-04]), 1.3480646204589206)\n",
      "(array([-0.01578072, -0.0338252 , -0.00182265,  0.98256328, -0.00647074]), 1.3098560644317825)\n",
      "(array([ 0.01559856,  0.01675   , -0.00461608,  1.01602383,  0.02079824]), 1.2767117369296805)\n",
      "(array([ -2.36253565e-02,   5.91271767e-04,  -1.10850950e-02,\n",
      "         1.01146557e+00,  -1.06019783e-02]), 1.2062615725134389)\n",
      "(array([-0.01008566, -0.01949069,  0.00469253,  1.01595836,  0.0039208 ]), 1.1852635865682934)\n",
      "(array([-0.00320142, -0.00450784, -0.00741882,  1.01878418,  0.00406245]), 1.1277450727892671)\n",
      "(array([ -4.05816953e-03,   1.86208708e-02,  -2.91534609e-04,\n",
      "         1.00002692e+00,  -7.89734518e-03]), 1.084420540897419)\n",
      "(array([ 0.00562914, -0.01555033,  0.00125481,  0.99374927, -0.0020281 ]), 1.050599049851991)\n",
      "(array([ 0.00123789, -0.0079869 , -0.00313765,  0.99573931,  0.00135367]), 1.0103534443653412)\n",
      "(array([ -4.08927919e-03,  -3.81202543e-03,  -2.28141666e-03,\n",
      "         9.91130333e-01,   8.11917379e-04]), 1.0052278942522506)\n",
      "(array([ -1.19114320e-04,  -5.25749058e-03,   1.81772932e-03,\n",
      "         9.95111191e-01,   4.23397793e-03]), 1.0046615763244517)\n",
      "(array([ 0.00495828, -0.00288224,  0.00250834,  0.99754727, -0.00129891]), 1.004395984066452)\n",
      "(array([  2.74595767e-03,  -8.83598965e-04,  -3.71247995e-03,\n",
      "         9.94085150e-01,  -2.90171304e-04]), 0.99951205278030741)\n",
      "(array([ -1.45568382e-03,  -1.27824005e-03,  -7.88828638e-04,\n",
      "         9.95117042e-01,   1.82431691e-03]), 0.99649229355908986)\n",
      "(array([ -1.97700429e-03,   1.03632240e-03,  -2.32454747e-04,\n",
      "         9.96034769e-01,  -2.66431069e-04]), 0.99620199063206627)\n",
      "(array([  2.75273321e-04,  -6.42346387e-04,   1.35985670e-03,\n",
      "         9.94197510e-01,  -5.15951180e-04]), 0.99559049616409112)\n",
      "(array([  5.56011348e-04,  -1.00475679e-03,   6.41035649e-04,\n",
      "         9.94724623e-01,   5.93093152e-04]), 0.9953828426770901)\n",
      "(array([ -1.12783590e-04,   1.74042708e-04,  -6.87046616e-04,\n",
      "         9.95791403e-01,   7.46000336e-06]), 0.99519877191177031)\n",
      "(array([  5.92058311e-05,  -8.30748854e-04,   4.98811708e-04,\n",
      "         9.95262310e-01,  -6.30685216e-05]), 0.99516510927046653)\n",
      "(array([ -5.48898733e-04,  -3.35741534e-04,   4.76635092e-05,\n",
      "         9.95104873e-01,   5.49040875e-04]), 0.99510568940689126)\n",
      "(array([ -4.02586055e-04,   5.93280538e-05,  -3.90530846e-05,\n",
      "         9.94481921e-01,  -2.89949217e-04]), 0.99505395373967431)\n",
      "(array([ -2.37133700e-04,   2.19926304e-04,  -2.77036603e-06,\n",
      "         9.94492057e-01,  -1.82644093e-04]), 0.99502959517698741)\n",
      "(array([ -2.06133902e-04,  -1.35310356e-04,  -8.27396830e-06,\n",
      "         9.94696383e-01,   3.59242303e-04]), 0.99501037430837336)\n",
      "(array([ -2.85438675e-04,  -8.77029934e-05,  -4.01610681e-05,\n",
      "         9.94738414e-01,   1.98351793e-04]), 0.99499448929802448)\n",
      "(array([  1.89613686e-04,   3.43045652e-05,   3.32387993e-05,\n",
      "         9.95141439e-01,  -6.81261605e-05]), 0.99497418965267848)\n",
      "(array([  1.25946704e-04,  -4.97102425e-05,  -1.04464311e-04,\n",
      "         9.95141640e-01,   1.05727651e-04]), 0.99497371790706701)\n",
      "(array([  9.87130559e-05,   5.83692220e-05,   3.77284786e-05,\n",
      "         9.94944437e-01,  -1.91225629e-04]), 0.99496924322809477)\n",
      "(array([ -5.14979669e-05,   7.10253104e-05,  -1.18042784e-05,\n",
      "         9.94972165e-01,  -1.97195309e-04]), 0.99496836264843402)\n",
      "(array([ -6.49064623e-05,  -1.01761663e-04,   4.08931965e-05,\n",
      "         9.94886334e-01,   8.83857159e-05]), 0.99496486556823172)\n",
      "(array([ -7.66055850e-05,  -1.09573584e-04,  -5.90298734e-05,\n",
      "         9.94951088e-01,   6.64831245e-05]), 0.99496418280920373)\n",
      "(array([ -2.04803984e-05,  -8.13846290e-05,  -1.07032024e-05,\n",
      "         9.94930943e-01,   1.21484701e-04]), 0.994963557143274)\n",
      "(array([  7.78157844e-05,  -7.87484804e-06,  -5.18533051e-06,\n",
      "         9.95048118e-01,  -3.23797705e-05]), 0.99496207173348061)\n",
      "(array([ -5.28697445e-05,  -1.54093405e-05,  -9.50883357e-06,\n",
      "         9.95001185e-01,   4.48588307e-05]), 0.99496043488526453)\n",
      "(array([ -2.21265315e-05,  -6.40976988e-05,  -7.94866853e-06,\n",
      "         9.94965767e-01,   4.01563237e-05]), 0.99496031184570377)\n",
      "(array([  3.80832465e-05,   1.32617643e-05,  -3.94611895e-05,\n",
      "         9.94925769e-01,  -3.75237560e-05]), 0.99496018222580496)\n",
      "(array([  3.72303675e-05,   3.81928690e-05,  -1.97494855e-05,\n",
      "         9.94918368e-01,   2.49953680e-05]), 0.99496014437125346)\n",
      "(array([ -9.62417013e-06,  -2.16616887e-05,  -1.97651455e-05,\n",
      "         9.94984218e-01,   4.58671892e-05]), 0.994959793200767)\n",
      "(array([ -1.45941405e-05,  -4.59240041e-05,  -1.16627309e-05,\n",
      "         9.94958265e-01,   3.20089816e-05]), 0.99495974804050746)\n",
      "(array([ -2.04306951e-05,  -8.56884846e-06,   4.02392890e-05,\n",
      "         9.94935074e-01,  -2.29045231e-05]), 0.99495968988657246)\n",
      "(array([  3.66234747e-06,   1.92037692e-06,  -2.69850506e-05,\n",
      "         9.94932260e-01,  -2.74246977e-05]), 0.99495949213242341)\n",
      "(array([ -6.08276047e-06,   8.08065663e-06,  -1.96381371e-05,\n",
      "         9.94948422e-01,  -3.67133542e-05]), 0.99495944199945008)\n",
      "(array([  4.57757033e-06,   2.93894012e-05,   1.01299974e-05,\n",
      "         9.94973876e-01,   1.84992725e-07]), 0.99495929901697622)\n",
      "(array([ -1.80356391e-05,   1.40243588e-05,  -1.78063413e-05,\n",
      "         9.94967114e-01,   6.65187432e-06]), 0.99495924657567336)\n",
      "(array([  5.28802275e-06,  -1.90116525e-06,  -1.17083536e-05,\n",
      "         9.94952259e-01,   8.68162569e-07]), 0.99495909877239264)\n",
      "(array([ -6.46793867e-06,  -4.64263144e-06,   5.10720067e-06,\n",
      "         9.94957563e-01,   1.75588012e-06]), 0.99495907568443442)\n"
     ]
    },
    {
     "ename": "KeyboardInterrupt",
     "evalue": "",
     "output_type": "error",
     "traceback": [
      "\u001b[0;31m---------------------------------------------------------------------------\u001b[0m",
      "\u001b[0;31mKeyboardInterrupt\u001b[0m                         Traceback (most recent call last)",
      "\u001b[0;32m<ipython-input-200-4e12cccb7c00>\u001b[0m in \u001b[0;36m<module>\u001b[0;34m()\u001b[0m\n\u001b[0;32m----> 1\u001b[0;31m \u001b[0mgenetic_algorithm\u001b[0m\u001b[0;34m(\u001b[0m\u001b[0;34m)\u001b[0m\u001b[0;34m\u001b[0m\u001b[0m\n\u001b[0m",
      "\u001b[0;32m<ipython-input-199-43c200dcac2a>\u001b[0m in \u001b[0;36mgenetic_algorithm\u001b[0;34m()\u001b[0m\n\u001b[1;32m     21\u001b[0m             \u001b[0;31m# Step1 Mating Selection\u001b[0m\u001b[0;34m\u001b[0m\u001b[0;34m\u001b[0m\u001b[0m\n\u001b[1;32m     22\u001b[0m             \u001b[0mr\u001b[0m \u001b[0;34m=\u001b[0m \u001b[0mnp\u001b[0m\u001b[0;34m.\u001b[0m\u001b[0marange\u001b[0m\u001b[0;34m(\u001b[0m\u001b[0mlen\u001b[0m\u001b[0;34m(\u001b[0m\u001b[0mP\u001b[0m\u001b[0;34m)\u001b[0m\u001b[0;34m)\u001b[0m\u001b[0;34m\u001b[0m\u001b[0m\n\u001b[0;32m---> 23\u001b[0;31m             \u001b[0mnp\u001b[0m\u001b[0;34m.\u001b[0m\u001b[0mrandom\u001b[0m\u001b[0;34m.\u001b[0m\u001b[0mshuffle\u001b[0m\u001b[0;34m(\u001b[0m\u001b[0mr\u001b[0m\u001b[0;34m)\u001b[0m\u001b[0;34m\u001b[0m\u001b[0m\n\u001b[0m\u001b[1;32m     24\u001b[0m             \u001b[0mselected\u001b[0m \u001b[0;34m=\u001b[0m \u001b[0mr\u001b[0m\u001b[0;34m[\u001b[0m\u001b[0;34m:\u001b[0m\u001b[0;36m2\u001b[0m\u001b[0;34m]\u001b[0m\u001b[0;34m\u001b[0m\u001b[0m\n\u001b[1;32m     25\u001b[0m             \u001b[0;31m#print(selected)\u001b[0m\u001b[0;34m\u001b[0m\u001b[0;34m\u001b[0m\u001b[0m\n",
      "\u001b[0;32mmtrand.pyx\u001b[0m in \u001b[0;36mmtrand.RandomState.shuffle (numpy/random/mtrand/mtrand.c:38893)\u001b[0;34m()\u001b[0m\n",
      "\u001b[0;32m/usr/local/lib/python3.5/dist-packages/numpy/core/_internal.py\u001b[0m in \u001b[0;36m__init__\u001b[0;34m(self, array, ptr)\u001b[0m\n\u001b[1;32m    246\u001b[0m         \u001b[0mself\u001b[0m\u001b[0;34m.\u001b[0m\u001b[0m_arr\u001b[0m \u001b[0;34m=\u001b[0m \u001b[0marray\u001b[0m\u001b[0;34m\u001b[0m\u001b[0m\n\u001b[1;32m    247\u001b[0m         \u001b[0mself\u001b[0m\u001b[0;34m.\u001b[0m\u001b[0m_data\u001b[0m \u001b[0;34m=\u001b[0m \u001b[0mptr\u001b[0m\u001b[0;34m\u001b[0m\u001b[0m\n\u001b[0;32m--> 248\u001b[0;31m         \u001b[0;32mif\u001b[0m \u001b[0mself\u001b[0m\u001b[0;34m.\u001b[0m\u001b[0m_arr\u001b[0m\u001b[0;34m.\u001b[0m\u001b[0mndim\u001b[0m \u001b[0;34m==\u001b[0m \u001b[0;36m0\u001b[0m\u001b[0;34m:\u001b[0m\u001b[0;34m\u001b[0m\u001b[0m\n\u001b[0m\u001b[1;32m    249\u001b[0m             \u001b[0mself\u001b[0m\u001b[0;34m.\u001b[0m\u001b[0m_zerod\u001b[0m \u001b[0;34m=\u001b[0m \u001b[0;32mTrue\u001b[0m\u001b[0;34m\u001b[0m\u001b[0m\n\u001b[1;32m    250\u001b[0m         \u001b[0;32melse\u001b[0m\u001b[0;34m:\u001b[0m\u001b[0;34m\u001b[0m\u001b[0m\n",
      "\u001b[0;31mKeyboardInterrupt\u001b[0m: "
     ]
    }
   ],
   "source": [
    "genetic_algorithm()"
   ]
  },
  {
   "cell_type": "markdown",
   "metadata": {},
   "source": [
    "### Test result\n",
    "\n",
    "#### Sphere fcuntion\n",
    "\n",
    "t = 526, n = 21040\n",
    "```\n",
    "[ -3.19151779e-05,   6.21772535e-05,   3.37272181e-05, 6.13072638e-06,   3.23365550e-05]\n",
    "7.1053532629267773e-09\n",
    "```\n",
    "\n",
    "#### Rastrigin function"
   ]
  }
 ],
 "metadata": {
  "kernelspec": {
   "display_name": "Python 3",
   "language": "python",
   "name": "python3"
  },
  "language_info": {
   "codemirror_mode": {
    "name": "ipython",
    "version": 3
   },
   "file_extension": ".py",
   "mimetype": "text/x-python",
   "name": "python",
   "nbconvert_exporter": "python",
   "pygments_lexer": "ipython3",
   "version": "3.5.2"
  }
 },
 "nbformat": 4,
 "nbformat_minor": 2
}
